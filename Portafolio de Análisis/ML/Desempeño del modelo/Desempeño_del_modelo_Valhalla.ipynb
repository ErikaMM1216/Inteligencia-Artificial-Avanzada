{
  "cells": [
    {
      "cell_type": "markdown",
      "metadata": {
        "id": "y8CHiY2BwApk"
      },
      "source": [
        "# Análisis y Reporte sobre el desempeño del modelo - Valhalla"
      ]
    },
    {
      "cell_type": "markdown",
      "metadata": {
        "id": "eATT1nr-v_q6"
      },
      "source": [
        "## Librerías"
      ]
    },
    {
      "cell_type": "code",
      "execution_count": 1,
      "metadata": {
        "id": "wmhWg7kpPZ7W"
      },
      "outputs": [],
      "source": [
        "import pandas as pd\n",
        "from sklearn.model_selection import train_test_split\n",
        "from sklearn.linear_model import SGDRegressor\n",
        "from sklearn.metrics import mean_squared_error\n",
        "import numpy as np\n",
        "import matplotlib.pyplot as plt"
      ]
    },
    {
      "cell_type": "markdown",
      "metadata": {
        "id": "BnWKmLJQwtiV"
      },
      "source": [
        "## Lectura de Datos"
      ]
    },
    {
      "cell_type": "code",
      "execution_count": 2,
      "metadata": {
        "colab": {
          "base_uri": "https://localhost:8080/",
          "height": 73
        },
        "id": "mlQ_E36MO6hR",
        "outputId": "6b95db8d-14f7-40dc-8fc0-71e1d55e1d7c"
      },
      "outputs": [],
      "source": [
        "#from google.colab import files\n",
        "#uploaded = files.upload()"
      ]
    },
    {
      "cell_type": "code",
      "execution_count": 3,
      "metadata": {
        "colab": {
          "base_uri": "https://localhost:8080/",
          "height": 206
        },
        "id": "jT-lmtCDPXpL",
        "outputId": "ea16edd2-dfb4-408c-9c2f-96d256cfb3f3"
      },
      "outputs": [
        {
          "data": {
            "text/html": [
              "<div>\n",
              "<style scoped>\n",
              "    .dataframe tbody tr th:only-of-type {\n",
              "        vertical-align: middle;\n",
              "    }\n",
              "\n",
              "    .dataframe tbody tr th {\n",
              "        vertical-align: top;\n",
              "    }\n",
              "\n",
              "    .dataframe thead th {\n",
              "        text-align: right;\n",
              "    }\n",
              "</style>\n",
              "<table border=\"1\" class=\"dataframe\">\n",
              "  <thead>\n",
              "    <tr style=\"text-align: right;\">\n",
              "      <th></th>\n",
              "      <th>Celsius</th>\n",
              "      <th>Valks</th>\n",
              "    </tr>\n",
              "  </thead>\n",
              "  <tbody>\n",
              "    <tr>\n",
              "      <th>0</th>\n",
              "      <td>61.4720</td>\n",
              "      <td>-139.740</td>\n",
              "    </tr>\n",
              "    <tr>\n",
              "      <th>1</th>\n",
              "      <td>70.5790</td>\n",
              "      <td>-156.600</td>\n",
              "    </tr>\n",
              "    <tr>\n",
              "      <th>2</th>\n",
              "      <td>-7.3013</td>\n",
              "      <td>73.269</td>\n",
              "    </tr>\n",
              "    <tr>\n",
              "      <th>3</th>\n",
              "      <td>71.3380</td>\n",
              "      <td>-165.420</td>\n",
              "    </tr>\n",
              "    <tr>\n",
              "      <th>4</th>\n",
              "      <td>43.2360</td>\n",
              "      <td>-75.835</td>\n",
              "    </tr>\n",
              "  </tbody>\n",
              "</table>\n",
              "</div>"
            ],
            "text/plain": [
              "   Celsius    Valks\n",
              "0  61.4720 -139.740\n",
              "1  70.5790 -156.600\n",
              "2  -7.3013   73.269\n",
              "3  71.3380 -165.420\n",
              "4  43.2360  -75.835"
            ]
          },
          "execution_count": 3,
          "metadata": {},
          "output_type": "execute_result"
        }
      ],
      "source": [
        "df = pd.read_csv(\"Valhalla23.csv\")\n",
        "df.head()"
      ]
    },
    {
      "cell_type": "markdown",
      "metadata": {
        "id": "KwAR7bLzwy1d"
      },
      "source": [
        "## Preparación de los Datos"
      ]
    },
    {
      "cell_type": "markdown",
      "metadata": {
        "id": "_lVSbc6QyaUV"
      },
      "source": [
        "Se define una semilla"
      ]
    },
    {
      "cell_type": "code",
      "execution_count": 4,
      "metadata": {
        "id": "DZMVa-DIupoI"
      },
      "outputs": [],
      "source": [
        "seed = 8621\n",
        "np.random.seed(seed)"
      ]
    },
    {
      "cell_type": "markdown",
      "metadata": {
        "id": "4pzarDOVyzjL"
      },
      "source": [
        "Se divide el set de datos en entrenamiento (40%),  validación (40%), y prueba (20%), utilizando el método train_test_split. y la semilla definida arriba"
      ]
    },
    {
      "cell_type": "code",
      "execution_count": 5,
      "metadata": {
        "id": "5fgPvE9Su5Ej"
      },
      "outputs": [],
      "source": [
        "train_size = 0.4\n",
        "test_size = 0.2"
      ]
    },
    {
      "cell_type": "markdown",
      "metadata": {
        "id": "Q5-qSmqs3Vvr"
      },
      "source": [
        "Se separan los datos en nuestra variable predictora (X) y nuestra variable objetivo (y)"
      ]
    },
    {
      "cell_type": "code",
      "execution_count": 6,
      "metadata": {
        "id": "3TWmakv33TYW"
      },
      "outputs": [],
      "source": [
        "X = df[['Celsius']]\n",
        "y = df['Valks']"
      ]
    },
    {
      "cell_type": "markdown",
      "metadata": {
        "id": "AXgpSCwY5FLl"
      },
      "source": [
        "Para poder dividir el set en 40% entrenamiento, 40% validación y 20% prueba primero se utiliza train_test_split para asignar el 40% de los datos al conjunto de entrenamiento y el 60% restante se asigna a un conjunto temporal, después se utiliza nuevamente train_test_split en donde tomamos el conjunto temporal  y lo dividimos de tal forma que el conjunto de prueba reciba el 20% de los datos originales (1/3 del conjunto temporal) y el conjunto de validación el 40% de los datos originales."
      ]
    },
    {
      "cell_type": "code",
      "execution_count": 7,
      "metadata": {
        "id": "5qvZdQkhvD-e"
      },
      "outputs": [],
      "source": [
        "X_train, X_temp, y_train, y_temp = train_test_split(X, y, train_size=train_size, random_state=seed)\n",
        "X_val, X_test, y_val, y_test = train_test_split(X_temp, y_temp, test_size=test_size/(1-train_size), random_state=seed)"
      ]
    },
    {
      "cell_type": "markdown",
      "metadata": {
        "id": "wXFdJh4Pw-Lp"
      },
      "source": [
        "## Modelo Base: Entrenamiento y Evaluación"
      ]
    },
    {
      "cell_type": "markdown",
      "metadata": {
        "id": "tiRzRut52dvW"
      },
      "source": [
        "Se entrena un modelo base de tipo SGDRegressor con una tasa de aprendizaje constante de 1E-4 y un máximo de iteraciones de un millón. Este modelo se utiliza como referencia para comparar los resultados de modelos entrenados con diferentes tamaños de muestra."
      ]
    },
    {
      "cell_type": "code",
      "execution_count": 8,
      "metadata": {
        "colab": {
          "base_uri": "https://localhost:8080/",
          "height": 92
        },
        "id": "BvE0DB0AvK5j",
        "outputId": "668f5315-01d7-490a-afea-6cde4ef15409"
      },
      "outputs": [
        {
          "data": {
            "text/html": [
              "<style>#sk-container-id-1 {\n",
              "  /* Definition of color scheme common for light and dark mode */\n",
              "  --sklearn-color-text: black;\n",
              "  --sklearn-color-line: gray;\n",
              "  /* Definition of color scheme for unfitted estimators */\n",
              "  --sklearn-color-unfitted-level-0: #fff5e6;\n",
              "  --sklearn-color-unfitted-level-1: #f6e4d2;\n",
              "  --sklearn-color-unfitted-level-2: #ffe0b3;\n",
              "  --sklearn-color-unfitted-level-3: chocolate;\n",
              "  /* Definition of color scheme for fitted estimators */\n",
              "  --sklearn-color-fitted-level-0: #f0f8ff;\n",
              "  --sklearn-color-fitted-level-1: #d4ebff;\n",
              "  --sklearn-color-fitted-level-2: #b3dbfd;\n",
              "  --sklearn-color-fitted-level-3: cornflowerblue;\n",
              "\n",
              "  /* Specific color for light theme */\n",
              "  --sklearn-color-text-on-default-background: var(--sg-text-color, var(--theme-code-foreground, var(--jp-content-font-color1, black)));\n",
              "  --sklearn-color-background: var(--sg-background-color, var(--theme-background, var(--jp-layout-color0, white)));\n",
              "  --sklearn-color-border-box: var(--sg-text-color, var(--theme-code-foreground, var(--jp-content-font-color1, black)));\n",
              "  --sklearn-color-icon: #696969;\n",
              "\n",
              "  @media (prefers-color-scheme: dark) {\n",
              "    /* Redefinition of color scheme for dark theme */\n",
              "    --sklearn-color-text-on-default-background: var(--sg-text-color, var(--theme-code-foreground, var(--jp-content-font-color1, white)));\n",
              "    --sklearn-color-background: var(--sg-background-color, var(--theme-background, var(--jp-layout-color0, #111)));\n",
              "    --sklearn-color-border-box: var(--sg-text-color, var(--theme-code-foreground, var(--jp-content-font-color1, white)));\n",
              "    --sklearn-color-icon: #878787;\n",
              "  }\n",
              "}\n",
              "\n",
              "#sk-container-id-1 {\n",
              "  color: var(--sklearn-color-text);\n",
              "}\n",
              "\n",
              "#sk-container-id-1 pre {\n",
              "  padding: 0;\n",
              "}\n",
              "\n",
              "#sk-container-id-1 input.sk-hidden--visually {\n",
              "  border: 0;\n",
              "  clip: rect(1px 1px 1px 1px);\n",
              "  clip: rect(1px, 1px, 1px, 1px);\n",
              "  height: 1px;\n",
              "  margin: -1px;\n",
              "  overflow: hidden;\n",
              "  padding: 0;\n",
              "  position: absolute;\n",
              "  width: 1px;\n",
              "}\n",
              "\n",
              "#sk-container-id-1 div.sk-dashed-wrapped {\n",
              "  border: 1px dashed var(--sklearn-color-line);\n",
              "  margin: 0 0.4em 0.5em 0.4em;\n",
              "  box-sizing: border-box;\n",
              "  padding-bottom: 0.4em;\n",
              "  background-color: var(--sklearn-color-background);\n",
              "}\n",
              "\n",
              "#sk-container-id-1 div.sk-container {\n",
              "  /* jupyter's `normalize.less` sets `[hidden] { display: none; }`\n",
              "     but bootstrap.min.css set `[hidden] { display: none !important; }`\n",
              "     so we also need the `!important` here to be able to override the\n",
              "     default hidden behavior on the sphinx rendered scikit-learn.org.\n",
              "     See: https://github.com/scikit-learn/scikit-learn/issues/21755 */\n",
              "  display: inline-block !important;\n",
              "  position: relative;\n",
              "}\n",
              "\n",
              "#sk-container-id-1 div.sk-text-repr-fallback {\n",
              "  display: none;\n",
              "}\n",
              "\n",
              "div.sk-parallel-item,\n",
              "div.sk-serial,\n",
              "div.sk-item {\n",
              "  /* draw centered vertical line to link estimators */\n",
              "  background-image: linear-gradient(var(--sklearn-color-text-on-default-background), var(--sklearn-color-text-on-default-background));\n",
              "  background-size: 2px 100%;\n",
              "  background-repeat: no-repeat;\n",
              "  background-position: center center;\n",
              "}\n",
              "\n",
              "/* Parallel-specific style estimator block */\n",
              "\n",
              "#sk-container-id-1 div.sk-parallel-item::after {\n",
              "  content: \"\";\n",
              "  width: 100%;\n",
              "  border-bottom: 2px solid var(--sklearn-color-text-on-default-background);\n",
              "  flex-grow: 1;\n",
              "}\n",
              "\n",
              "#sk-container-id-1 div.sk-parallel {\n",
              "  display: flex;\n",
              "  align-items: stretch;\n",
              "  justify-content: center;\n",
              "  background-color: var(--sklearn-color-background);\n",
              "  position: relative;\n",
              "}\n",
              "\n",
              "#sk-container-id-1 div.sk-parallel-item {\n",
              "  display: flex;\n",
              "  flex-direction: column;\n",
              "}\n",
              "\n",
              "#sk-container-id-1 div.sk-parallel-item:first-child::after {\n",
              "  align-self: flex-end;\n",
              "  width: 50%;\n",
              "}\n",
              "\n",
              "#sk-container-id-1 div.sk-parallel-item:last-child::after {\n",
              "  align-self: flex-start;\n",
              "  width: 50%;\n",
              "}\n",
              "\n",
              "#sk-container-id-1 div.sk-parallel-item:only-child::after {\n",
              "  width: 0;\n",
              "}\n",
              "\n",
              "/* Serial-specific style estimator block */\n",
              "\n",
              "#sk-container-id-1 div.sk-serial {\n",
              "  display: flex;\n",
              "  flex-direction: column;\n",
              "  align-items: center;\n",
              "  background-color: var(--sklearn-color-background);\n",
              "  padding-right: 1em;\n",
              "  padding-left: 1em;\n",
              "}\n",
              "\n",
              "\n",
              "/* Toggleable style: style used for estimator/Pipeline/ColumnTransformer box that is\n",
              "clickable and can be expanded/collapsed.\n",
              "- Pipeline and ColumnTransformer use this feature and define the default style\n",
              "- Estimators will overwrite some part of the style using the `sk-estimator` class\n",
              "*/\n",
              "\n",
              "/* Pipeline and ColumnTransformer style (default) */\n",
              "\n",
              "#sk-container-id-1 div.sk-toggleable {\n",
              "  /* Default theme specific background. It is overwritten whether we have a\n",
              "  specific estimator or a Pipeline/ColumnTransformer */\n",
              "  background-color: var(--sklearn-color-background);\n",
              "}\n",
              "\n",
              "/* Toggleable label */\n",
              "#sk-container-id-1 label.sk-toggleable__label {\n",
              "  cursor: pointer;\n",
              "  display: block;\n",
              "  width: 100%;\n",
              "  margin-bottom: 0;\n",
              "  padding: 0.5em;\n",
              "  box-sizing: border-box;\n",
              "  text-align: center;\n",
              "}\n",
              "\n",
              "#sk-container-id-1 label.sk-toggleable__label-arrow:before {\n",
              "  /* Arrow on the left of the label */\n",
              "  content: \"▸\";\n",
              "  float: left;\n",
              "  margin-right: 0.25em;\n",
              "  color: var(--sklearn-color-icon);\n",
              "}\n",
              "\n",
              "#sk-container-id-1 label.sk-toggleable__label-arrow:hover:before {\n",
              "  color: var(--sklearn-color-text);\n",
              "}\n",
              "\n",
              "/* Toggleable content - dropdown */\n",
              "\n",
              "#sk-container-id-1 div.sk-toggleable__content {\n",
              "  max-height: 0;\n",
              "  max-width: 0;\n",
              "  overflow: hidden;\n",
              "  text-align: left;\n",
              "  /* unfitted */\n",
              "  background-color: var(--sklearn-color-unfitted-level-0);\n",
              "}\n",
              "\n",
              "#sk-container-id-1 div.sk-toggleable__content.fitted {\n",
              "  /* fitted */\n",
              "  background-color: var(--sklearn-color-fitted-level-0);\n",
              "}\n",
              "\n",
              "#sk-container-id-1 div.sk-toggleable__content pre {\n",
              "  margin: 0.2em;\n",
              "  border-radius: 0.25em;\n",
              "  color: var(--sklearn-color-text);\n",
              "  /* unfitted */\n",
              "  background-color: var(--sklearn-color-unfitted-level-0);\n",
              "}\n",
              "\n",
              "#sk-container-id-1 div.sk-toggleable__content.fitted pre {\n",
              "  /* unfitted */\n",
              "  background-color: var(--sklearn-color-fitted-level-0);\n",
              "}\n",
              "\n",
              "#sk-container-id-1 input.sk-toggleable__control:checked~div.sk-toggleable__content {\n",
              "  /* Expand drop-down */\n",
              "  max-height: 200px;\n",
              "  max-width: 100%;\n",
              "  overflow: auto;\n",
              "}\n",
              "\n",
              "#sk-container-id-1 input.sk-toggleable__control:checked~label.sk-toggleable__label-arrow:before {\n",
              "  content: \"▾\";\n",
              "}\n",
              "\n",
              "/* Pipeline/ColumnTransformer-specific style */\n",
              "\n",
              "#sk-container-id-1 div.sk-label input.sk-toggleable__control:checked~label.sk-toggleable__label {\n",
              "  color: var(--sklearn-color-text);\n",
              "  background-color: var(--sklearn-color-unfitted-level-2);\n",
              "}\n",
              "\n",
              "#sk-container-id-1 div.sk-label.fitted input.sk-toggleable__control:checked~label.sk-toggleable__label {\n",
              "  background-color: var(--sklearn-color-fitted-level-2);\n",
              "}\n",
              "\n",
              "/* Estimator-specific style */\n",
              "\n",
              "/* Colorize estimator box */\n",
              "#sk-container-id-1 div.sk-estimator input.sk-toggleable__control:checked~label.sk-toggleable__label {\n",
              "  /* unfitted */\n",
              "  background-color: var(--sklearn-color-unfitted-level-2);\n",
              "}\n",
              "\n",
              "#sk-container-id-1 div.sk-estimator.fitted input.sk-toggleable__control:checked~label.sk-toggleable__label {\n",
              "  /* fitted */\n",
              "  background-color: var(--sklearn-color-fitted-level-2);\n",
              "}\n",
              "\n",
              "#sk-container-id-1 div.sk-label label.sk-toggleable__label,\n",
              "#sk-container-id-1 div.sk-label label {\n",
              "  /* The background is the default theme color */\n",
              "  color: var(--sklearn-color-text-on-default-background);\n",
              "}\n",
              "\n",
              "/* On hover, darken the color of the background */\n",
              "#sk-container-id-1 div.sk-label:hover label.sk-toggleable__label {\n",
              "  color: var(--sklearn-color-text);\n",
              "  background-color: var(--sklearn-color-unfitted-level-2);\n",
              "}\n",
              "\n",
              "/* Label box, darken color on hover, fitted */\n",
              "#sk-container-id-1 div.sk-label.fitted:hover label.sk-toggleable__label.fitted {\n",
              "  color: var(--sklearn-color-text);\n",
              "  background-color: var(--sklearn-color-fitted-level-2);\n",
              "}\n",
              "\n",
              "/* Estimator label */\n",
              "\n",
              "#sk-container-id-1 div.sk-label label {\n",
              "  font-family: monospace;\n",
              "  font-weight: bold;\n",
              "  display: inline-block;\n",
              "  line-height: 1.2em;\n",
              "}\n",
              "\n",
              "#sk-container-id-1 div.sk-label-container {\n",
              "  text-align: center;\n",
              "}\n",
              "\n",
              "/* Estimator-specific */\n",
              "#sk-container-id-1 div.sk-estimator {\n",
              "  font-family: monospace;\n",
              "  border: 1px dotted var(--sklearn-color-border-box);\n",
              "  border-radius: 0.25em;\n",
              "  box-sizing: border-box;\n",
              "  margin-bottom: 0.5em;\n",
              "  /* unfitted */\n",
              "  background-color: var(--sklearn-color-unfitted-level-0);\n",
              "}\n",
              "\n",
              "#sk-container-id-1 div.sk-estimator.fitted {\n",
              "  /* fitted */\n",
              "  background-color: var(--sklearn-color-fitted-level-0);\n",
              "}\n",
              "\n",
              "/* on hover */\n",
              "#sk-container-id-1 div.sk-estimator:hover {\n",
              "  /* unfitted */\n",
              "  background-color: var(--sklearn-color-unfitted-level-2);\n",
              "}\n",
              "\n",
              "#sk-container-id-1 div.sk-estimator.fitted:hover {\n",
              "  /* fitted */\n",
              "  background-color: var(--sklearn-color-fitted-level-2);\n",
              "}\n",
              "\n",
              "/* Specification for estimator info (e.g. \"i\" and \"?\") */\n",
              "\n",
              "/* Common style for \"i\" and \"?\" */\n",
              "\n",
              ".sk-estimator-doc-link,\n",
              "a:link.sk-estimator-doc-link,\n",
              "a:visited.sk-estimator-doc-link {\n",
              "  float: right;\n",
              "  font-size: smaller;\n",
              "  line-height: 1em;\n",
              "  font-family: monospace;\n",
              "  background-color: var(--sklearn-color-background);\n",
              "  border-radius: 1em;\n",
              "  height: 1em;\n",
              "  width: 1em;\n",
              "  text-decoration: none !important;\n",
              "  margin-left: 1ex;\n",
              "  /* unfitted */\n",
              "  border: var(--sklearn-color-unfitted-level-1) 1pt solid;\n",
              "  color: var(--sklearn-color-unfitted-level-1);\n",
              "}\n",
              "\n",
              ".sk-estimator-doc-link.fitted,\n",
              "a:link.sk-estimator-doc-link.fitted,\n",
              "a:visited.sk-estimator-doc-link.fitted {\n",
              "  /* fitted */\n",
              "  border: var(--sklearn-color-fitted-level-1) 1pt solid;\n",
              "  color: var(--sklearn-color-fitted-level-1);\n",
              "}\n",
              "\n",
              "/* On hover */\n",
              "div.sk-estimator:hover .sk-estimator-doc-link:hover,\n",
              ".sk-estimator-doc-link:hover,\n",
              "div.sk-label-container:hover .sk-estimator-doc-link:hover,\n",
              ".sk-estimator-doc-link:hover {\n",
              "  /* unfitted */\n",
              "  background-color: var(--sklearn-color-unfitted-level-3);\n",
              "  color: var(--sklearn-color-background);\n",
              "  text-decoration: none;\n",
              "}\n",
              "\n",
              "div.sk-estimator.fitted:hover .sk-estimator-doc-link.fitted:hover,\n",
              ".sk-estimator-doc-link.fitted:hover,\n",
              "div.sk-label-container:hover .sk-estimator-doc-link.fitted:hover,\n",
              ".sk-estimator-doc-link.fitted:hover {\n",
              "  /* fitted */\n",
              "  background-color: var(--sklearn-color-fitted-level-3);\n",
              "  color: var(--sklearn-color-background);\n",
              "  text-decoration: none;\n",
              "}\n",
              "\n",
              "/* Span, style for the box shown on hovering the info icon */\n",
              ".sk-estimator-doc-link span {\n",
              "  display: none;\n",
              "  z-index: 9999;\n",
              "  position: relative;\n",
              "  font-weight: normal;\n",
              "  right: .2ex;\n",
              "  padding: .5ex;\n",
              "  margin: .5ex;\n",
              "  width: min-content;\n",
              "  min-width: 20ex;\n",
              "  max-width: 50ex;\n",
              "  color: var(--sklearn-color-text);\n",
              "  box-shadow: 2pt 2pt 4pt #999;\n",
              "  /* unfitted */\n",
              "  background: var(--sklearn-color-unfitted-level-0);\n",
              "  border: .5pt solid var(--sklearn-color-unfitted-level-3);\n",
              "}\n",
              "\n",
              ".sk-estimator-doc-link.fitted span {\n",
              "  /* fitted */\n",
              "  background: var(--sklearn-color-fitted-level-0);\n",
              "  border: var(--sklearn-color-fitted-level-3);\n",
              "}\n",
              "\n",
              ".sk-estimator-doc-link:hover span {\n",
              "  display: block;\n",
              "}\n",
              "\n",
              "/* \"?\"-specific style due to the `<a>` HTML tag */\n",
              "\n",
              "#sk-container-id-1 a.estimator_doc_link {\n",
              "  float: right;\n",
              "  font-size: 1rem;\n",
              "  line-height: 1em;\n",
              "  font-family: monospace;\n",
              "  background-color: var(--sklearn-color-background);\n",
              "  border-radius: 1rem;\n",
              "  height: 1rem;\n",
              "  width: 1rem;\n",
              "  text-decoration: none;\n",
              "  /* unfitted */\n",
              "  color: var(--sklearn-color-unfitted-level-1);\n",
              "  border: var(--sklearn-color-unfitted-level-1) 1pt solid;\n",
              "}\n",
              "\n",
              "#sk-container-id-1 a.estimator_doc_link.fitted {\n",
              "  /* fitted */\n",
              "  border: var(--sklearn-color-fitted-level-1) 1pt solid;\n",
              "  color: var(--sklearn-color-fitted-level-1);\n",
              "}\n",
              "\n",
              "/* On hover */\n",
              "#sk-container-id-1 a.estimator_doc_link:hover {\n",
              "  /* unfitted */\n",
              "  background-color: var(--sklearn-color-unfitted-level-3);\n",
              "  color: var(--sklearn-color-background);\n",
              "  text-decoration: none;\n",
              "}\n",
              "\n",
              "#sk-container-id-1 a.estimator_doc_link.fitted:hover {\n",
              "  /* fitted */\n",
              "  background-color: var(--sklearn-color-fitted-level-3);\n",
              "}\n",
              "</style><div id=\"sk-container-id-1\" class=\"sk-top-container\"><div class=\"sk-text-repr-fallback\"><pre>SGDRegressor(eta0=0.0001, learning_rate=&#x27;constant&#x27;, max_iter=1000000,\n",
              "             random_state=8621)</pre><b>In a Jupyter environment, please rerun this cell to show the HTML representation or trust the notebook. <br />On GitHub, the HTML representation is unable to render, please try loading this page with nbviewer.org.</b></div><div class=\"sk-container\" hidden><div class=\"sk-item\"><div class=\"sk-estimator fitted sk-toggleable\"><input class=\"sk-toggleable__control sk-hidden--visually\" id=\"sk-estimator-id-1\" type=\"checkbox\" checked><label for=\"sk-estimator-id-1\" class=\"sk-toggleable__label fitted sk-toggleable__label-arrow fitted\">&nbsp;&nbsp;SGDRegressor<a class=\"sk-estimator-doc-link fitted\" rel=\"noreferrer\" target=\"_blank\" href=\"https://scikit-learn.org/1.5/modules/generated/sklearn.linear_model.SGDRegressor.html\">?<span>Documentation for SGDRegressor</span></a><span class=\"sk-estimator-doc-link fitted\">i<span>Fitted</span></span></label><div class=\"sk-toggleable__content fitted\"><pre>SGDRegressor(eta0=0.0001, learning_rate=&#x27;constant&#x27;, max_iter=1000000,\n",
              "             random_state=8621)</pre></div> </div></div></div></div>"
            ],
            "text/plain": [
              "SGDRegressor(eta0=0.0001, learning_rate='constant', max_iter=1000000,\n",
              "             random_state=8621)"
            ]
          },
          "execution_count": 8,
          "metadata": {},
          "output_type": "execute_result"
        }
      ],
      "source": [
        "base_model = SGDRegressor(learning_rate='constant', eta0=1e-4, max_iter=1000000, random_state=seed)\n",
        "base_model.fit(X_train, y_train)"
      ]
    },
    {
      "cell_type": "markdown",
      "metadata": {
        "id": "Dk7GaBoDAyYf"
      },
      "source": [
        "Calculo del error cuadrático medio para este modelo, sobre los datos de entrenamiento, validación, y prueba. **Estos datos serán la línea base**"
      ]
    },
    {
      "cell_type": "code",
      "execution_count": 9,
      "metadata": {
        "colab": {
          "base_uri": "https://localhost:8080/"
        },
        "id": "aDOog0VrvvIH",
        "outputId": "2476ee18-fed7-4886-89ec-05c4004b5dbb"
      },
      "outputs": [
        {
          "name": "stdout",
          "output_type": "stream",
          "text": [
            "Error cuadrático medio dobre los datos de entrenamiento 999.3010293240701\n",
            "Error cuadrático medio dobre los datos de validación 1172.940029051852\n",
            "Error cuadrático medio dobre los datos de prueba 1287.3295336780816\n"
          ]
        }
      ],
      "source": [
        "mse_train_base = mean_squared_error(y_train, base_model.predict(X_train))\n",
        "mse_val_base = mean_squared_error(y_val, base_model.predict(X_val))\n",
        "mse_test_base = mean_squared_error(y_test, base_model.predict(X_test))\n",
        "print(\"Error cuadrático medio dobre los datos de entrenamiento\", mse_train_base)\n",
        "print(\"Error cuadrático medio dobre los datos de validación\", mse_val_base)\n",
        "print(\"Error cuadrático medio dobre los datos de prueba\", mse_test_base)"
      ]
    },
    {
      "cell_type": "markdown",
      "metadata": {
        "id": "qZp_zn5j7mAP"
      },
      "source": [
        "* MSE - Entrenamiento: Muestra el error promedio del modelo al predecir los datos de entrenamiento. Como este conjunto de datos se usó para ajustar el modelo, es normal que el MSE sea relativamente bajo en comparación con los otros conjuntos. Sin embargo, el MSE no es extremadamente bajo, lo que indica que el modelo no se está sobreajustando del todo a los datos de entrenamiento. Esto podría significar que el modelo está generalizando de manera razonable en los datos de entrenamiento, pero hay margen para mejorar el ajuste y debe analizarse en conjunto con los demás resultados.\n",
        "\n",
        "* MSE - Validación: Es más alto que en el conjunto de entrenamiento. Esto sugiere que el modelo tiene una capacidad de generalización limitada y que hay una mayor discrepancia entre las predicciones del modelo y los datos reales cuando se trata de datos no vistos. El aumento del error en comparación con el conjunto de entrenamiento puede deberse a una combinación de varianza y sesgo. Es decir, el modelo puede estar aprendiendo algunos patrones específicos de los datos de entrenamiento que no son tan útiles en datos no vistos.\n",
        "\n",
        "* MSE - Prueba: Es aún mayor que en los conjuntos de entrenamiento y validación. Este es un indicador importante de que el modelo no está generalizando bien cuando se enfrenta a datos completamente nuevos. Este aumento sugiere que puede haber un problema de sobreajuste (si el modelo es demasiado complejo) o un problema de sesgo alto (si el modelo es demasiado simple y no captura suficientemente la complejidad de los datos)."
      ]
    },
    {
      "cell_type": "markdown",
      "metadata": {
        "id": "Joid6Qau8jv-"
      },
      "source": [
        "Conclusión: A medida que pasamos del conjunto de entrenamiento al de validación y finalmente al de prueba, el MSE aumenta constantemente. Esta tendencia generalmente indica que el modelo puede estar ligeramente sobreajustado a los datos de entrenamiento, pero también puede estar subajustado si no captura adecuadamente la complejidad de los datos."
      ]
    },
    {
      "cell_type": "markdown",
      "metadata": {
        "id": "lxhVTKf4HKFf"
      },
      "source": [
        "Gráfica donde se muestra cada subconjunto de datos (entrenamiento, validación, prueba) y el modelo de regresión obtenido (como una recta)"
      ]
    },
    {
      "cell_type": "code",
      "execution_count": 10,
      "metadata": {
        "colab": {
          "base_uri": "https://localhost:8080/",
          "height": 565
        },
        "id": "cTqi5QyEvxux",
        "outputId": "21dae199-9f45-40f6-da5a-262e75a25f08"
      },
      "outputs": [
        {
          "data": {
            "image/png": "[encoded data removed]",
            "text/plain": [
              "<Figure size 1000x600 with 1 Axes>"
            ]
          },
          "metadata": {},
          "output_type": "display_data"
        }
      ],
      "source": [
        "plt.figure(figsize=(10, 6))\n",
        "\n",
        "# Entrenamiento\n",
        "plt.scatter(X_train, y_train, color='blue', label='Datos de entrenamiento')\n",
        "plt.plot(X_train, base_model.predict(X_train), color='blue', label='Modelo base (Train)')\n",
        "\n",
        "# Validación\n",
        "plt.scatter(X_val, y_val, color='green', label='Datos de validación')\n",
        "plt.plot(X_val, base_model.predict(X_val), color='green', linestyle='dashed', label='Modelo Base (Validation)')\n",
        "\n",
        "# Prueba\n",
        "plt.scatter(X_test, y_test, color='red', label='Datos de prueba')\n",
        "plt.plot(X_test, base_model.predict(X_test), color='red', linestyle='dotted', label='Modelo base (Test)')\n",
        "\n",
        "plt.xlabel('Celsius')\n",
        "plt.ylabel('Valks')\n",
        "plt.legend()\n",
        "plt.title('Modelo base con datos de entrenamiento, validación y prueba')\n",
        "plt.show()"
      ]
    },
    {
      "cell_type": "markdown",
      "metadata": {
        "id": "H0qbF5G48y9W"
      },
      "source": [
        " Las rectas de regresión sugieren que el modelo no es completamente incapaz de capturar la tendencia general de los datos, pero existe un sesgo inherente debido a que el modelo puede ser demasiado simple. Se resalta la necesidad de ajustar el modelo o modificar la cantidad de datos de entrenamiento utilizados."
      ]
    },
    {
      "cell_type": "markdown",
      "metadata": {
        "id": "xrKxFoH8IDhr"
      },
      "source": [
        "Creación de una lista de 20 elementos enteros entre 2 y 39, incluyendo el número 2 y sin repeticiones."
      ]
    },
    {
      "cell_type": "code",
      "execution_count": 11,
      "metadata": {
        "colab": {
          "base_uri": "https://localhost:8080/"
        },
        "id": "55pwqMY0v0yw",
        "outputId": "7d59f1d5-8b0d-41b1-d056-3fe2ee110492"
      },
      "outputs": [
        {
          "data": {
            "text/plain": [
              "[2, 3, 4, 5, 7, 8, 9, 10, 12, 13, 14, 16, 18, 21, 23, 24, 26, 28, 36, 38]"
            ]
          },
          "execution_count": 11,
          "metadata": {},
          "output_type": "execute_result"
        }
      ],
      "source": [
        "sample_sizes = sorted(np.random.choice(range(2, 40), size=19, replace=False).tolist() + [2])\n",
        "sample_sizes"
      ]
    },
    {
      "cell_type": "markdown",
      "metadata": {
        "id": "t7ZlfBk-J8Og"
      },
      "source": [
        "Para cada uno de los tamaño de muestra definido en sample_sizes se entrenan 100 modelos. Para cada modelo, se selecciona un subconjunto aleatorio del set de entrenamiento que contenga esa cantidad de muestras.\n",
        "\n",
        "Para cada uno de los modelos, se calcula el error cuadrático medio en el subconjunto de entrenamiento (el que tiene un número cambiante de muestras), y en el subconjunto de validación\n",
        "\n",
        "Se calcula el promedio de las 100 repeticiones para cada uno de los modelos y sus errores. Esto genera dos listas de 20 valores cada uno, donde cada elemento representa el error promedio de las 100 repeticiones que se hicieron para cada subconjunto de entrenamiento"
      ]
    },
    {
      "cell_type": "code",
      "execution_count": 12,
      "metadata": {
        "id": "xfE1N_qEwEHl"
      },
      "outputs": [],
      "source": [
        "train_mse_list = [] # MSE promedio en los subconjuntos de entrenamiento.\n",
        "val_mse_list = [] # MSE promedio en el conjunto de validación.\n",
        "\n",
        "for size in sample_sizes: # Se recorre cada tamaño de muestra en sample_size\n",
        "    train_mse_reps = [] # MSE de las 100 repeticiones para el conjunto de entrenamiento.\n",
        "    val_mse_reps = [] # MSE de las 100 repeticiones para el conjunto de validación\n",
        "\n",
        "    for _ in range(100):  # Para realizar las 100 repeticiones de entrenamiento con subconjuntos aleatorios.\n",
        "        # Se selecciona un subconjunto aleatorio de los datos de entrenamiento\n",
        "        subset_indices = np.random.choice(len(X_train), size=size, replace=False) # Seleccion de size indices (posiciones) aleatorios de los datos de\n",
        "        #entrenamiento / len(X_train): Especifica el rango de donde se seleccionan los índices, que aquí corresponde al total de filas en X_train\n",
        "        X_subset = X_train.iloc[subset_indices] #Extrae las filas correspondientes a esos índices\n",
        "        y_subset = y_train.iloc[subset_indices]\n",
        "\n",
        "        # Se entrena el modelo en este subconjunto.\n",
        "        model = SGDRegressor(learning_rate='constant', eta0=1e-4, max_iter=1000000, random_state=seed)\n",
        "        model.fit(X_subset, y_subset)\n",
        "\n",
        "        # Se alcula MSE en el subconjunto (entrenamiento) y en el conjunto de validación completo\n",
        "        train_mse_reps.append(mean_squared_error(y_subset, model.predict(X_subset))) #  MSE en el subconjunto de entrenamiento\n",
        "        val_mse_reps.append(mean_squared_error(y_val, model.predict(X_val)))\n",
        "\n",
        "    # Promedio de la MSE sobre las 100 repeticiones.\n",
        "    train_mse_list.append(np.mean(train_mse_reps))\n",
        "    val_mse_list.append(np.mean(val_mse_reps))"
      ]
    },
    {
      "cell_type": "code",
      "execution_count": 13,
      "metadata": {
        "colab": {
          "base_uri": "https://localhost:8080/"
        },
        "id": "dcEIBMXaVHiZ",
        "outputId": "f78f60ec-c583-4808-a7e6-bf12a7d1e062"
      },
      "outputs": [
        {
          "name": "stdout",
          "output_type": "stream",
          "text": [
            "Lista de MSE promedio en entrenamiento: [np.float64(25.611804414171974), np.float64(25.509789926182325), np.float64(56.082605734285316), np.float64(728.21807271561), np.float64(905.0089594908708), np.float64(96.36185877145785), np.float64(895.5438054962938), np.float64(882.8030648723754), np.float64(908.8067502763356), np.float64(956.1773214923176), np.float64(1007.3037852033686), np.float64(1017.359089218815), np.float64(1029.312190564283), np.float64(1026.019695417866), np.float64(1053.7067121610214), np.float64(1022.1862321729445), np.float64(1018.7160108257771), np.float64(1010.8541773113741), np.float64(1011.36829778634), np.float64(998.4921251712389)]\n",
            "Lista de MSE promedio en validación: [np.float64(1452.1543265449075), np.float64(266.93614151554794), np.float64(195.01823664163882), np.float64(1098.5845395112983), np.float64(1171.3547431908144), np.float64(147.1165531152293), np.float64(1141.9706413414344), np.float64(1118.5230272849037), np.float64(1132.1125799315714), np.float64(1145.8722633102896), np.float64(1175.3781985355226), np.float64(1179.2233462562865), np.float64(1190.6119839703779), np.float64(1176.9775842685308), np.float64(1177.506348707845), np.float64(1186.8741283886523), np.float64(1173.6988161875422), np.float64(1160.5959724359623), np.float64(1156.6264728189071), np.float64(1147.4385608776274)]\n"
          ]
        }
      ],
      "source": [
        "print(\"Lista de MSE promedio en entrenamiento:\", train_mse_list)\n",
        "print(\"Lista de MSE promedio en validación:\", val_mse_list)"
      ]
    },
    {
      "cell_type": "markdown",
      "metadata": {
        "id": "bfXdyLexWWDr"
      },
      "source": [
        "Se agregan a las listas anteriores los errores de entrenamiento y validación de la línea base"
      ]
    },
    {
      "cell_type": "code",
      "execution_count": 14,
      "metadata": {
        "id": "xibMmp4SwIUt"
      },
      "outputs": [],
      "source": [
        "train_mse_list.append(mse_train_base)\n",
        "val_mse_list.append(mse_val_base)"
      ]
    },
    {
      "cell_type": "markdown",
      "metadata": {
        "id": "gr4Q3HK5qrdr"
      },
      "source": [
        "Gráfica donde se muestre la evolución del error promedio de entrenamiento y validación, para cada uno de los diferentes tamaños de entrenamiento."
      ]
    },
    {
      "cell_type": "code",
      "execution_count": 15,
      "metadata": {
        "colab": {
          "base_uri": "https://localhost:8080/",
          "height": 564
        },
        "id": "YmLg6tDFwMj_",
        "outputId": "51422ff3-3ad3-4568-9236-2838f5b5c38c"
      },
      "outputs": [
        {
          "data": {
            "image/png": "[encoded data removed]",
            "text/plain": [
              "<Figure size 1000x600 with 1 Axes>"
            ]
          },
          "metadata": {},
          "output_type": "display_data"
        }
      ],
      "source": [
        "# 11. Plot the evolution of the training and validation MSEs\n",
        "plt.figure(figsize=(10, 6))\n",
        "plt.plot(sample_sizes + [len(X_train)], train_mse_list, label='Entrenamiento MSE', marker='o')\n",
        "plt.plot(sample_sizes + [len(X_train)], val_mse_list, label='Validación MSE', marker='o')\n",
        "plt.axhline(y=mse_test_base, color='red', linestyle='--', label='Prueba MSE (Modelo Base)')\n",
        "plt.xlabel('Number of Training Samples')\n",
        "plt.ylabel('Mean Squared Error (MSE)')\n",
        "plt.legend()\n",
        "plt.title('Evolución de MSE con un aumento del tamaño de la muestra de entrenamiento')\n",
        "plt.show()"
      ]
    },
    {
      "cell_type": "markdown",
      "metadata": {
        "id": "3MYmzzeasJwk"
      },
      "source": [
        "## Análisis de Resultados"
      ]
    },
    {
      "cell_type": "markdown",
      "metadata": {
        "id": "KMeXZwk40mrI"
      },
      "source": [
        "El primero modelo (2 muestras) tiende a sobreajustarse a los pocos datos de entrenamiento, mostrando un bajo MSE en entrenamiento pero en validación indicando alta varianza, mientras que el modelo con 40 muestras tiene un ajuste más eqilibrado con un MSE más estable tanto en el conjunto de entrenamiento como en el de validación, aunque el MSE de entrenamiento es un más alto que en el modelo de menor tamaño, el MSE de validación es más bajo y estable, indicando un mejor balance entre sesgo y varianza."
      ]
    },
    {
      "cell_type": "markdown",
      "metadata": {
        "id": "gr0Ly01u6bL3"
      },
      "source": [
        "* En los modelos de 2 a 10 muestras existe una alta varianza y un bajo sesgo, Se ajustan demasiado a los datos específicos de entrenamiento y no generalizan bien.\n",
        "* A medida que el número de muestras de entrenamiento aumenta en el rango de 10 a 30, hay una transición gradual en el comportamiento de los modelos en términos de sesgo y varianza\n",
        "* En los modelos de 10 a 20 todavía están en una fase de alta varianza, aunque menos extrema que en los casos de 2 a 10 muestras, tienen más datos para aprender patrones generales, lo que significa que empiezan a capturar mejor las tendencias subyacentes de los datos sin depender demasiado de las peculiaridades del conjunto de entrenamiento, sin embargo, debido a que el tamaño de las muestras sigue siendo relativamente pequeño, todavía se observa una cierta cantidad de varianza.\n",
        "* En los modelos de 20 a 30 se observa un comportamiento más equilibrado entre sesgo y varianza.tienen suficiente información para capturar patrones subyacentes más robustos y minimizar los efectos del ruido en los datos de entrenamiento. Esto lleva a una reducción progresiva de la varianza en comparación con los modelos entrenados con menos de 20 muestras, el sesgo también disminuye porque el modelo tiene más ejemplos para aprender patrones generalizables en lugar de ajustar demasiado el ruido de los datos, sin embargo, el modelo aún no ha alcanzado el nivel de complejidad que podría llevar a un sobreajuste significativo.\n",
        "* En los modelos con muestras de 30 a 40 existe una menor varianza, pero potencialmente más sesgo en comparación con modelos de alta varianza. Sin embargo, un tamaño de muestra como 30 o 40 ofrece un buen equilibrio."
      ]
    },
    {
      "cell_type": "markdown",
      "metadata": {
        "id": "yXKrwC7QWUvk"
      },
      "source": [
        "Según las gráficas, el MSE en el conjunto de validación comienza a estabilizarse cuando se utilizan aproximadamente 30 muestras. Este parece ser un buen punto de equilibrio entre el sesgo y la varianza, por lo que 30 muestras parecen ser una opción adecuada para el entrenamiento del modelo."
      ]
    },
    {
      "cell_type": "markdown",
      "metadata": {
        "id": "aV-QB38hrJrq"
      },
      "source": [
        "Entrenamiento de un nuevo modelo utilizando la cantidad de muestras más adecuada de muestras (30).\n",
        "\n",
        "Calculo de su error cuadrático medio sobre el subconjunto de entrenamiento (el de la cantidad de muestras seleccionadas), el de validación, y el de prueba."
      ]
    },
    {
      "cell_type": "code",
      "execution_count": 16,
      "metadata": {
        "colab": {
          "base_uri": "https://localhost:8080/"
        },
        "id": "RyqqZxTnwRtG",
        "outputId": "bfdd7b23-1c87-4c71-a861-04c8bf0b1831"
      },
      "outputs": [
        {
          "data": {
            "text/plain": [
              "(np.float64(1155.8691634021095),\n",
              " np.float64(1325.0488400434083),\n",
              " np.float64(1330.4598295355204))"
            ]
          },
          "execution_count": 16,
          "metadata": {},
          "output_type": "execute_result"
        }
      ],
      "source": [
        "# Se seleccionan 30 muestras del conjunto de entrenamiento\n",
        "final_size = 30\n",
        "final_subset_indices = np.random.choice(len(X_train), size=final_size, replace=False)\n",
        "X_final_subset = X_train.iloc[final_subset_indices]\n",
        "y_final_subset = y_train.iloc[final_subset_indices]\n",
        "\n",
        "# Entrenamiento del modelo\n",
        "final_model = SGDRegressor(learning_rate='constant', eta0=1e-4, max_iter=1000000, random_state=seed)\n",
        "final_model.fit(X_final_subset, y_final_subset)\n",
        "\n",
        "# Calculo del MSE en el subconjunto seleccionado, la validación y los conjuntos de prueba\n",
        "mse_final_train = mean_squared_error(y_final_subset, final_model.predict(X_final_subset))\n",
        "mse_final_val = mean_squared_error(y_val, final_model.predict(X_val))\n",
        "mse_final_test = mean_squared_error(y_test, final_model.predict(X_test))\n",
        "\n",
        "mse_final_train, mse_final_val, mse_final_test"
      ]
    },
    {
      "cell_type": "markdown",
      "metadata": {
        "id": "LIGpramMCHc6"
      },
      "source": [
        "## Comparación con el Modelo Base"
      ]
    },
    {
      "cell_type": "markdown",
      "metadata": {
        "id": "Ur-Ed5oi7QP0"
      },
      "source": [
        "**El modelo entrenado con 30 muestras tiene un MSE de validación y prueba significativamente mejor que el modelo base.**\n",
        "\n",
        "Aunque los errores en el modelo base parecen bajos en comparación con los de otros modelos, la diferencia significativa entre los errores de entrenamiento y los errores de validación y prueba sugiere que el modelo podría estar sobreajustando a los datos de entrenamiento, es decir, aunque el MSE en el conjunto de validación y prueba es menor que otros modelos, no refleja una generalización adecuada debido al sobreajuste. Mientras que en el modelo entrenado con 30 muestras a pesar de que los errores de validación y prueba son más altos que los del modelo base, la diferencia entre los errores de entrenamiento, validación y prueba es mucho menor, lo que indica un mejor equilibrio entre sesgo y varianza. Este modelo no sobreajusta a los datos de entrenamiento tanto como el modelo base y muestra una mejor capacidad de generalización, por lo que la configuración de 30 muestras ofrece el mejor balance de sesgo y varianza, lo que resulta en un rendimiento robusto y consistente en datos no vistos."
      ]
    }
  ],
  "metadata": {
    "colab": {
      "provenance": []
    },
    "kernelspec": {
      "display_name": "Python 3",
      "name": "python3"
    },
    "language_info": {
      "codemirror_mode": {
        "name": "ipython",
        "version": 3
      },
      "file_extension": ".py",
      "mimetype": "text/x-python",
      "name": "python",
      "nbconvert_exporter": "python",
      "pygments_lexer": "ipython3",
      "version": "3.12.5"
    }
  },
  "nbformat": 4,
  "nbformat_minor": 0
}
